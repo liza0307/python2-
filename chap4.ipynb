{
 "cells": [
  {
   "cell_type": "markdown",
   "metadata": {},
   "source": [
    "## Python物件: List, Tuple, Dict, Sets"
   ]
  },
  {
   "cell_type": "markdown",
   "metadata": {},
   "source": [
    "### list串列\n",
    "\n"
   ]
  },
  {
   "cell_type": "code",
   "execution_count": 2,
   "metadata": {},
   "outputs": [
    {
     "name": "stdout",
     "output_type": "stream",
     "text": [
      "python\n",
      "js\n",
      "SQL\n"
     ]
    }
   ],
   "source": [
    "my_list0 = []\n",
    "my_list1 = list()\n",
    "my_list2 = ['python', 'js', 'SQL']  #宣告串列\n",
    "print(my_list2[0])  #印出串列中第1個值或文字\n",
    "print(my_list2[1])  #印出串列中第2個值或文字\n",
    "print(my_list2[2])  #印出串列中第3個值或文字\n"
   ]
  },
  {
   "cell_type": "markdown",
   "metadata": {},
   "source": [
    "### 附加於最後"
   ]
  },
  {
   "cell_type": "code",
   "execution_count": 3,
   "metadata": {},
   "outputs": [
    {
     "name": "stdout",
     "output_type": "stream",
     "text": [
      "4\n",
      "6\n"
     ]
    }
   ],
   "source": [
    "my_list2 = ['python', 'js', 'SQL'] \n",
    "my_list2.append(\"java\") #將java加入到串列list2後面\n",
    "my_list2[3]  \n",
    "print(len(my_list2))  #印出list2的長度\n",
    "print(len(my_list2[0]))\n"
   ]
  },
  {
   "cell_type": "markdown",
   "metadata": {},
   "source": [
    "### 新增至特定位置"
   ]
  },
  {
   "cell_type": "code",
   "execution_count": 4,
   "metadata": {},
   "outputs": [
    {
     "name": "stdout",
     "output_type": "stream",
     "text": [
      "['java', 'python', 'js', 'go']\n"
     ]
    }
   ],
   "source": [
    "languages = ['python', 'js', 'go']\n",
    "languages.insert(0, 'java') #新增java至languages串列中第0個位置\n",
    "print(languages)\n"
   ]
  },
  {
   "cell_type": "markdown",
   "metadata": {},
   "source": [
    "### 刪除"
   ]
  },
  {
   "cell_type": "code",
   "execution_count": 6,
   "metadata": {},
   "outputs": [
    {
     "name": "stdout",
     "output_type": "stream",
     "text": [
      "['python', 'js']\n"
     ]
    }
   ],
   "source": [
    "languages = ['python', 'js', 'go']\n",
    "del languages[-1]   #刪除languages最後一個的值\n",
    "print(languages)\n"
   ]
  },
  {
   "cell_type": "markdown",
   "metadata": {},
   "source": [
    "### 長度"
   ]
  },
  {
   "cell_type": "code",
   "execution_count": 7,
   "metadata": {},
   "outputs": [
    {
     "name": "stdout",
     "output_type": "stream",
     "text": [
      "3\n"
     ]
    }
   ],
   "source": [
    "print(len(['python', 'js', 'go']) ) #印出此串列的長度"
   ]
  },
  {
   "cell_type": "markdown",
   "metadata": {},
   "source": [
    "### 檢查是否存在"
   ]
  },
  {
   "cell_type": "code",
   "execution_count": 8,
   "metadata": {},
   "outputs": [
    {
     "name": "stdout",
     "output_type": "stream",
     "text": [
      "False\n"
     ]
    }
   ],
   "source": [
    "print('java' in ['python', 'js', 'go'])#檢查java這個值有沒有在此串列中，有就印True沒有就False"
   ]
  },
  {
   "cell_type": "markdown",
   "metadata": {},
   "source": [
    "### 串列重複"
   ]
  },
  {
   "cell_type": "code",
   "execution_count": 9,
   "metadata": {},
   "outputs": [
    {
     "name": "stdout",
     "output_type": "stream",
     "text": [
      "[1, 2, 1, 2, 1, 2, 1, 2, 1, 2]\n"
     ]
    }
   ],
   "source": [
    "a=[1,2] #宣告串列\n",
    "print(a*5) \n"
   ]
  },
  {
   "cell_type": "markdown",
   "metadata": {},
   "source": [
    "### 串列取值"
   ]
  },
  {
   "cell_type": "code",
   "execution_count": 10,
   "metadata": {},
   "outputs": [
    {
     "name": "stdout",
     "output_type": "stream",
     "text": [
      "[1, 2, 3]\n",
      "[1, 3, 5, 7, 9]\n",
      "[1, 2, 3, 4, 5, 6, 7]\n",
      "1\n",
      "7\n",
      "0\n",
      "1\n",
      "[7, 6, 5, 4, 3, 2, 1]\n",
      "[1, 2, 3, 4, 5, 6, 7]\n"
     ]
    }
   ],
   "source": [
    "a=[1,2,3,4,5,6,7,8,9]\n",
    "b=a[0:3]   #範圍取值\n",
    "print(b)\n",
    "c=a[0:9:2]   #間隔取值\n",
    "print(c)\n",
    "del a[7:9]  #刪除串列某範圍的值\n",
    "print(a)\n",
    "print(min(a)) #最小值\n",
    "print(max(a)) #最大值\n",
    "print(a.index(1)) #1出現的索引值\n",
    "print(a.count(1)) #1出現的次數\n",
    "a.reverse()  #串列反轉\n",
    "print(a)\n",
    "a.sort()   #串列排序\n",
    "print(a)\n"
   ]
  },
  {
   "cell_type": "markdown",
   "metadata": {},
   "source": [
    "## 元組可以視為不可改變的串列 tuple 跟 list 很像，但是我們不能新增刪除或者更新 tuple 的元素 元組比起串列好處： 佔用空間較少 可以當做字典的 key（因不可變） 具名 tuple 可當做物件替代 當做函式引數"
   ]
  },
  {
   "cell_type": "code",
   "execution_count": 11,
   "metadata": {},
   "outputs": [
    {
     "name": "stdout",
     "output_type": "stream",
     "text": [
      "('python', 'js', 'go')\n",
      "python\n"
     ]
    }
   ],
   "source": [
    "a_list = ['python', 'js', 'go']\n",
    "a_tuple = tuple(a_list)  # tuple等於a_list\n",
    "print(a_tuple)  #印出tuple元組\n",
    "print(a_tuple[0])  #印出tuple 元組中第0個位置\n"
   ]
  },
  {
   "cell_type": "markdown",
   "metadata": {},
   "source": [
    "### 字典(dictionary - dict)，為帶有鍵值（key）的 串列(list)"
   ]
  },
  {
   "cell_type": "code",
   "execution_count": 12,
   "metadata": {},
   "outputs": [
    {
     "name": "stdout",
     "output_type": "stream",
     "text": [
      "python\n",
      "{'name': 'python', 'version': '3.5'}\n",
      "dict_keys(['name', 'version'])\n",
      "dict_values(['python', '3.5'])\n",
      "dict_items([('name', 'python'), ('version', '3.5')])\n",
      "True\n"
     ]
    }
   ],
   "source": [
    "languages = {}\n",
    "languages = {'name':'python','version':'3.5'} \n",
    "print(languages['name'])  #印出字串中name的值(python)\n",
    "print(languages)  #印出languages中的字串\n",
    "print(languages.keys())  #印出languages中的鍵值\n",
    "print(languages.values()) #印出languages中的結果\n",
    "print(languages.items())  #印出languages中的鍵值與結果\n",
    "print('name' in languages ) #判斷name 是否跟languages一樣，如果是就印true不是就印false\n"
   ]
  },
  {
   "cell_type": "code",
   "execution_count": 13,
   "metadata": {},
   "outputs": [
    {
     "name": "stdout",
     "output_type": "stream",
     "text": [
      "{'name': 'python', 'version': '3.5'}\n",
      "{}\n",
      "python\n",
      "{'name': 'java', 'version': '3.5'}\n"
     ]
    }
   ],
   "source": [
    "a = {'name':'python','version':'3.5'} \n",
    "b=a.copy() #a跟b一樣\n",
    "print(b)\n",
    "b.clear()  #刪除b的值\n",
    "print(b)\n",
    "print(a.get('name'))#印出a的name\n",
    "a.update({'name':'java'}) #更新a的name\n",
    "print(a)\n"
   ]
  },
  {
   "cell_type": "code",
   "execution_count": null,
   "metadata": {},
   "outputs": [],
   "source": []
  }
 ],
 "metadata": {
  "kernelspec": {
   "display_name": "Python 3",
   "language": "python",
   "name": "python3"
  },
  "language_info": {
   "codemirror_mode": {
    "name": "ipython",
    "version": 3
   },
   "file_extension": ".py",
   "mimetype": "text/x-python",
   "name": "python",
   "nbconvert_exporter": "python",
   "pygments_lexer": "ipython3",
   "version": "3.7.4"
  }
 },
 "nbformat": 4,
 "nbformat_minor": 2
}
