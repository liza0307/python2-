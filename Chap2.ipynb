{
 "cells": [
  {
   "cell_type": "code",
   "execution_count": 5,
   "metadata": {},
   "outputs": [
    {
     "name": "stdout",
     "output_type": "stream",
     "text": [
      "8\n"
     ]
    }
   ],
   "source": [
    "#這是註解\n",
    "a=3        #將3這個值放到a\n",
    "b=5        #將5這個值放到b\n",
    "print(a+b)  #印出括弧內的值 "
   ]
  },
  {
   "cell_type": "code",
   "execution_count": 6,
   "metadata": {},
   "outputs": [
    {
     "name": "stdout",
     "output_type": "stream",
     "text": [
      "8\n"
     ]
    }
   ],
   "source": [
    "#大範圍註解(開頭3個分號+結尾3個分號)\n",
    "'''\n",
    "這是第一行註解   \n",
    "這是第二行註解\n",
    "'''\n",
    "\n",
    "a=3    #將3這個值放到a\n",
    "b=5    #將5這個值放到b\n",
    "print(a+b)  #印出括弧內的值 "
   ]
  },
  {
   "cell_type": "code",
   "execution_count": 7,
   "metadata": {},
   "outputs": [
    {
     "name": "stdout",
     "output_type": "stream",
     "text": [
      "10\n",
      "1\n"
     ]
    }
   ],
   "source": [
    "x=1     #將1這個值放到x\n",
    "y=10    #將10這個值放到y\n",
    "x=x+y   #x的值等於x+y\n",
    "y=x-y   #y的值等於x-y\n",
    "x=x-y   #x的值等於x-y\n",
    "print(x)  #印出括弧內的值\n",
    "print(y)  #印出括弧內的值"
   ]
  },
  {
   "cell_type": "code",
   "execution_count": 8,
   "metadata": {},
   "outputs": [
    {
     "name": "stdout",
     "output_type": "stream",
     "text": [
      "10\n",
      "1\n"
     ]
    }
   ],
   "source": [
    "x=1    #將1這個值放到x\n",
    "y=10    #將10這個值放到y\n",
    "x, y = y, x  #將x、y的值對調\n",
    "print(x)  #印出括弧內的值\n",
    "print(y)   #印出括弧內的值"
   ]
  },
  {
   "cell_type": "code",
   "execution_count": 12,
   "metadata": {},
   "outputs": [
    {
     "name": "stdout",
     "output_type": "stream",
     "text": [
      "3\n",
      "4\n",
      "5\n"
     ]
    }
   ],
   "source": [
    "x,y,z=3,4,5  #平行設定\n",
    "print(x)   #印出括弧內的值\n",
    "print(y)   #印出括弧內的值\n",
    "print(z)   #印出括弧內的值"
   ]
  },
  {
   "cell_type": "code",
   "execution_count": 13,
   "metadata": {},
   "outputs": [
    {
     "name": "stdout",
     "output_type": "stream",
     "text": [
      "4 8 125\n"
     ]
    }
   ],
   "source": [
    "x,y,z=3,4,5  #平行設定\n",
    "x += 1  #將x的值相加\n",
    "y *= 2  #Y的次方\n",
    "z **= 3  #Z的3次方\n",
    "print(x,y,z) #印出括弧內的值            "
   ]
  },
  {
   "cell_type": "markdown",
   "metadata": {},
   "source": [
    "Q: 邊長為3,4,5的三角形，其面積大小為何?"
   ]
  },
  {
   "cell_type": "code",
   "execution_count": 16,
   "metadata": {},
   "outputs": [
    {
     "name": "stdout",
     "output_type": "stream",
     "text": [
      "3\n"
     ]
    }
   ],
   "source": [
    "import math    #匯入數學(不用import就無法使用)\n",
    "d=math.sqrt(((3+4+5)/2)*(((3+4+5)/2)-3)*(((3+4+5)/2)-4)*(((3+4+5)/2)-5))  #使用math.sqrt運算後面的數值後傳回給d\n",
    "print(a)  #印出括弧內的數值"
   ]
  },
  {
   "cell_type": "code",
   "execution_count": 17,
   "metadata": {},
   "outputs": [
    {
     "name": "stdout",
     "output_type": "stream",
     "text": [
      "6.0\n"
     ]
    }
   ],
   "source": [
    "import math #匯入數學(不用import就無法使用)\n",
    "a,b,c=3,4,5  #平行設定\n",
    "s=(a+b+c)/2  #將S後面的值運算好丟回S\n",
    "d=math.sqrt(s*(s-a)*(s-b)*(s-c))  #使用math.sqrt運算後面的數值後傳回給d\n",
    "print(d)  #印出括弧內的值"
   ]
  },
  {
   "cell_type": "markdown",
   "metadata": {},
   "source": [
    "python動態類型變數，使用前不需要宣告資料型態"
   ]
  },
  {
   "cell_type": "code",
   "execution_count": 18,
   "metadata": {},
   "outputs": [
    {
     "name": "stdout",
     "output_type": "stream",
     "text": [
      "<class 'int'>\n"
     ]
    },
    {
     "data": {
      "text/plain": [
       "140732870148400"
      ]
     },
     "execution_count": 18,
     "metadata": {},
     "output_type": "execute_result"
    }
   ],
   "source": [
    "x=254  #python動態類型變數，使用前不需要宣告資料型態\n",
    "print(type(x)) \n",
    "id(x)"
   ]
  },
  {
   "cell_type": "code",
   "execution_count": 19,
   "metadata": {},
   "outputs": [
    {
     "name": "stdout",
     "output_type": "stream",
     "text": [
      "<class 'str'>\n"
     ]
    },
    {
     "data": {
      "text/plain": [
       "1465005702640"
      ]
     },
     "execution_count": 19,
     "metadata": {},
     "output_type": "execute_result"
    }
   ],
   "source": [
    "x='write'#python動態類型變數，使用前不需要宣告資料型態\n",
    "print(type(x))\n",
    "id(x)"
   ]
  },
  {
   "cell_type": "markdown",
   "metadata": {},
   "source": [
    "## 半徑為4.5，高度為4.5的圓錐體面積為何?"
   ]
  },
  {
   "cell_type": "code",
   "execution_count": 20,
   "metadata": {},
   "outputs": [
    {
     "name": "stdout",
     "output_type": "stream",
     "text": [
      "95.42587685278995\n"
     ]
    }
   ],
   "source": [
    "import math  #匯入數學(不用import就無法使用)\n",
    "print((4.5*4.5*math.pi*4.5)/3) #印出括弧內使用運算式算完的值"
   ]
  },
  {
   "cell_type": "code",
   "execution_count": 21,
   "metadata": {},
   "outputs": [
    {
     "name": "stdout",
     "output_type": "stream",
     "text": [
      "5.333333333333333\n",
      "5\n",
      "1\n"
     ]
    }
   ],
   "source": [
    "x=16 #將16這個值放到X\n",
    "y=3  #將3這個值放到Y\n",
    "print(x/y)  #兩數相除\n",
    "print(x//y) #求商\n",
    "print(x%y)  #求餘數"
   ]
  },
  {
   "cell_type": "code",
   "execution_count": 22,
   "metadata": {},
   "outputs": [
    {
     "name": "stdout",
     "output_type": "stream",
     "text": [
      "True\n",
      "False\n",
      "20\n"
     ]
    }
   ],
   "source": [
    "#關係運算\n",
    "x=10  #將10這個值放到X\n",
    "print(20==20)  #判斷20是否等於20\n",
    "y=20  #將20這個值放到Y\n",
    "print(x==y) #判斷X是否等於Y，並印出來\n",
    "x=y #X的值會跟Y一樣\n",
    "print(x)  #印出X的值"
   ]
  },
  {
   "cell_type": "markdown",
   "metadata": {},
   "source": [
    "## 級聯比較"
   ]
  },
  {
   "cell_type": "code",
   "execution_count": 23,
   "metadata": {},
   "outputs": [
    {
     "name": "stdout",
     "output_type": "stream",
     "text": [
      "True\n"
     ]
    }
   ],
   "source": [
    "a,b,c=10,20,30 #宣告3個數做比較\n",
    "print(a<=b<=c) #判斷這三個數是否符合括弧內的比較"
   ]
  },
  {
   "cell_type": "code",
   "execution_count": 24,
   "metadata": {},
   "outputs": [
    {
     "name": "stdout",
     "output_type": "stream",
     "text": [
      "0.0015926269999999576\n"
     ]
    }
   ],
   "source": [
    "x=3.141592627\n",
    "print(x-3.14) #比正確之值略小  #印出括弧內x-3.14之後剩下的餘數"
   ]
  },
  {
   "cell_type": "markdown",
   "metadata": {},
   "source": [
    "## 邏輯運算 以閏年為例"
   ]
  },
  {
   "cell_type": "code",
   "execution_count": 25,
   "metadata": {},
   "outputs": [
    {
     "name": "stdout",
     "output_type": "stream",
     "text": [
      "False\n",
      "True\n",
      "True\n"
     ]
    }
   ],
   "source": [
    "y=2010 #將2010這個值放入Y\n",
    "print(y%4==0 and y%100!=0 or y%400==0) #判斷Y%4是否等於0且Y%100不等於0或是Y$400等於0，判斷完並印出True或False\n",
    "y=2012  #將2012這個值放入Y\n",
    "print(y%4==0 and y%100!=0 or y%400==0)print(y%4==0 and y%100!=0 or y%400==0) #判斷Y%4是否等於0且Y%100不等於0或是Y%400等於0，判斷完並印出True或False\n",
    "y=2000   #將2000這個值放入Y\n",
    "print(y%4==0 and y%100!=0 or y%400==0)  print(y%4==0 and y%100!=0 or y%400==0) #判斷Y%4是否等於0且Y%100不等於0或是Y%400等於0，判斷完並印出True或False"
   ]
  },
  {
   "cell_type": "markdown",
   "metadata": {},
   "source": [
    "## 型態轉換"
   ]
  },
  {
   "cell_type": "code",
   "execution_count": 26,
   "metadata": {},
   "outputs": [
    {
     "name": "stdout",
     "output_type": "stream",
     "text": [
      "12.5\n",
      "123\n",
      "123.0\n",
      "123\n",
      "The value of x is 32.5 and y is 40000\n",
      "The value of x is 32.5 and y is 40000\n"
     ]
    }
   ],
   "source": [
    "x=12 #將12這個值放入X\n",
    "y=float(x)+0.5  #宣告浮點數X+0.5後放入Y\n",
    "print(y)  #印出括弧內的值\n",
    "print(int('123'))  #印出的資料型態為整數\n",
    "print(float('123')) #印出的資料型態為浮點數型態(浮點數型態後方即使使整數也會有.0)\n",
    "print(int(123.333)) #印出的資料型態為整數(後方小數點會自動去掉)\n",
    "x=10*3.25 #32.5\n",
    "y=200*200 #40000\n",
    "s='The value of x is ' + str(x) + ' and y is ' + str(y)  #str宣告字串時可以使用\n",
    "s1='The value of x is ' + repr(x) + ' and y is ' + repr(y)\n",
    "print(s)   #印出括弧內的值\n",
    "print(s1)  #印出括弧內的值"
   ]
  },
  {
   "cell_type": "markdown",
   "metadata": {},
   "source": [
    "## 非內置模組"
   ]
  },
  {
   "cell_type": "code",
   "execution_count": 27,
   "metadata": {},
   "outputs": [
    {
     "name": "stdout",
     "output_type": "stream",
     "text": [
      "3.141592653589793\n",
      "8.0\n",
      "26.423892221536985\n",
      "5.0\n"
     ]
    }
   ],
   "source": [
    "import math #匯入數學(不用import就無法使用)\n",
    "print(math.pi) #印出數學裡pi的值\n",
    "print(math.pow(2,3))  #math.pow是次方的意思，印出2的3次方值\n",
    "print(8.3*10.58*math.sin(37.0/180*math.pi)/2) #印出括弧內運算完的值\n",
    "print(math.sqrt(25)) #印出25的平方根"
   ]
  },
  {
   "cell_type": "markdown",
   "metadata": {},
   "source": [
    "## 算圓面積"
   ]
  },
  {
   "cell_type": "code",
   "execution_count": 28,
   "metadata": {},
   "outputs": [
    {
     "name": "stdout",
     "output_type": "stream",
     "text": [
      "請輸入半徑:20\n",
      "圓面積為: 1256.6370614359173\n"
     ]
    }
   ],
   "source": [
    "import math #匯入數學(不用import就無法使用)\n",
    "r=input(\"請輸入半徑:\") #input可以在執行後讓使用者自行輸入參數\n",
    "area=float(r) * float(r) * math.pi  #將使用者輸入的r轉換型態變成浮點數型態後乘以pi\n",
    "print(\"圓面積為:\" , area)  #印出括弧內的字串+答案"
   ]
  },
  {
   "cell_type": "code",
   "execution_count": null,
   "metadata": {},
   "outputs": [],
   "source": []
  }
 ],
 "metadata": {
  "kernelspec": {
   "display_name": "Python 3",
   "language": "python",
   "name": "python3"
  },
  "language_info": {
   "codemirror_mode": {
    "name": "ipython",
    "version": 3
   },
   "file_extension": ".py",
   "mimetype": "text/x-python",
   "name": "python",
   "nbconvert_exporter": "python",
   "pygments_lexer": "ipython3",
   "version": "3.7.4"
  }
 },
 "nbformat": 4,
 "nbformat_minor": 2
}
