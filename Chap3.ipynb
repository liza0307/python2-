{
 "cells": [
  {
   "cell_type": "code",
   "execution_count": 1,
   "metadata": {},
   "outputs": [
    {
     "name": "stdout",
     "output_type": "stream",
     "text": [
      "b是比較大的數\n"
     ]
    }
   ],
   "source": [
    "a=3    #將3這個值放入a\n",
    "b=4    #將4這個值放入b\n",
    "if a <= b:  #如果a小於且等於b 就執行下一行程式碼\n",
    "    print(\"b是比較大的數\")  \n",
    "else:  #如果沒有達成上述條件就執行此行以下的程式碼\n",
    "    print(\"a是比較大的數\")\n"
   ]
  },
  {
   "cell_type": "code",
   "execution_count": 2,
   "metadata": {},
   "outputs": [
    {
     "name": "stdout",
     "output_type": "stream",
     "text": [
      "55\n"
     ]
    }
   ],
   "source": [
    "sum=0 #將0這個值放入sum\n",
    "for count in range(1, 11,1):  #數值1~10 間隔值 1 相加\n",
    "    sum += count  #count的值 放到sum\n",
    "print(sum)  #印出刮弧內的值\n"
   ]
  },
  {
   "cell_type": "code",
   "execution_count": 3,
   "metadata": {},
   "outputs": [
    {
     "name": "stdout",
     "output_type": "stream",
     "text": [
      "1+2+3+...+10累加結果 55\n"
     ]
    }
   ],
   "source": [
    "sum = 0 #儲存加總結果\n",
    "for count in range(11): #數值1~10\n",
    "   sum += count #將數值累加\n",
    "print('1+2+3+...+10累加結果', sum) #印出刮弧內的字串+值\n"
   ]
  },
  {
   "cell_type": "code",
   "execution_count": 4,
   "metadata": {},
   "outputs": [
    {
     "name": "stdout",
     "output_type": "stream",
     "text": [
      "f\n",
      "o\n",
      "r\n",
      " \n",
      "s\n",
      "t\n",
      "a\n",
      "t\n",
      "e\n",
      "m\n",
      "e\n",
      "n\n",
      "t\n",
      "end list\n"
     ]
    }
   ],
   "source": [
    "mylist=\"for statement\"  #宣告串列\n",
    "for word in mylist:\n",
    "    print(word)\n",
    "else:\n",
    "    print(\"end list\") #印出刮弧內的字串\n"
   ]
  },
  {
   "cell_type": "markdown",
   "metadata": {},
   "source": [
    "## 雞兔同籠。若共有35個頭，94隻腳，問共有幾隻雞?幾隻兔?"
   ]
  },
  {
   "cell_type": "code",
   "execution_count": 5,
   "metadata": {},
   "outputs": [
    {
     "name": "stdout",
     "output_type": "stream",
     "text": [
      "雞有 23 隻,兔子有 12 隻\n"
     ]
    }
   ],
   "source": [
    "for chicken in range(0, 35): \n",
    "    rabbit=35-chicken  #兔子等於35-雞\n",
    "    if 2*chicken+4*rabbit==94:  #如果運算完的答案等於94 就執行下一行程式碼\n",
    "        print(\"雞有\",chicken,\"隻,兔子有\",rabbit,\"隻\")\n",
    "        break\n",
    "else:   #如果上述條件沒達成就值型以下程式碼\n",
    "    print(\"無解\")\n"
   ]
  },
  {
   "cell_type": "markdown",
   "metadata": {},
   "source": [
    "## while迴圈"
   ]
  },
  {
   "cell_type": "code",
   "execution_count": 7,
   "metadata": {},
   "outputs": [
    {
     "name": "stdout",
     "output_type": "stream",
     "text": [
      "1+2+3+...+ 10 累加結果 55\n"
     ]
    }
   ],
   "source": [
    "sum = 0 #儲存加總結果\n",
    "count = 1 #計數器\n",
    "while count <= 10:  \n",
    "   sum += count #將數值累加\n",
    "   count += 1\n",
    "print(\"1+2+3+...+ 10 累加結果\", sum) #輸出累加結果\n",
    " \n"
   ]
  },
  {
   "cell_type": "markdown",
   "metadata": {},
   "source": [
    "## 本金10000元，年利率1.9%，請問多久銀行存款會加倍"
   ]
  },
  {
   "cell_type": "code",
   "execution_count": 8,
   "metadata": {},
   "outputs": [
    {
     "name": "stdout",
     "output_type": "stream",
     "text": [
      "37 年以後，存款加倍，為 20065 元\n"
     ]
    }
   ],
   "source": [
    "x=10000 #10000放到x\n",
    "years=0  #0放到years\n",
    "while x <= 20000:  #迴圈 判斷x是否小於等於20000，是的話執行下面程式碼\n",
    "    years+=1 \n",
    "    x=x*1.019 \n",
    "print(str(years),\"年以後，存款加倍，為\",int(x),\"元\")\n"
   ]
  },
  {
   "cell_type": "markdown",
   "metadata": {},
   "source": [
    "## 猜數字"
   ]
  },
  {
   "cell_type": "code",
   "execution_count": 9,
   "metadata": {},
   "outputs": [
    {
     "name": "stdout",
     "output_type": "stream",
     "text": [
      "輸入1~100之間的數字 --> 11\n",
      "你猜對了，數字是： 11\n"
     ]
    }
   ],
   "source": [
    "number=11  \n",
    "while True:\n",
    "    guess = int(input('輸入1~100之間的數字 --> '))  #讓使用者可以輸入數字\n",
    "    if guess == number:  #如果輸入的數字跟number一樣就執行下一行程式碼\n",
    "        print('你猜對了，數字是：', number)\n",
    "        break\n",
    "    else:  #上述條件未達成就執行此行以下的程式碼\n",
    "        print(\"答錯了\")\n"
   ]
  },
  {
   "cell_type": "code",
   "execution_count": null,
   "metadata": {},
   "outputs": [],
   "source": []
  }
 ],
 "metadata": {
  "kernelspec": {
   "display_name": "Python 3",
   "language": "python",
   "name": "python3"
  },
  "language_info": {
   "codemirror_mode": {
    "name": "ipython",
    "version": 3
   },
   "file_extension": ".py",
   "mimetype": "text/x-python",
   "name": "python",
   "nbconvert_exporter": "python",
   "pygments_lexer": "ipython3",
   "version": "3.7.4"
  }
 },
 "nbformat": 4,
 "nbformat_minor": 2
}
